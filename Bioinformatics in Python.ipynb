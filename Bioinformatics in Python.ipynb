{
 "cells": [
  {
   "cell_type": "code",
   "execution_count": null,
   "metadata": {},
   "outputs": [],
   "source": []
  },
  {
   "cell_type": "code",
   "execution_count": 37,
   "metadata": {},
   "outputs": [],
   "source": [
    "text = \"AGAACACACCTCTTGAACTGAATGAAGGAGAGTTGGAGAGTTCCTCTTGAACTGAATGAAACTGAATGAACCTCTTGACCTCTTGAACTGAATGAAGGAGAGTTGGAGAGTTACTGAATGAATCGTGCCTTCGTGCCTGGAGAGTTACTGAATGAATCGTGCCTCCTCTTGACCTCTTGACCTCTTGAGGAGAGTTGGAGAGTTTCGTGCCTAGAACACAAGAACACAACTGAATGAAACTGAATGAATCGTGCCTAGAACACATCGTGCCTAGAACACAGGAGAGTTCCTCTTGACCTCTTGAGGAGAGTTACTGAATGAAAGAACACAAGAACACACCTCTTGAGGAGAGTTCCTCTTGACCTCTTGAGGAGAGTTTCGTGCCTGGAGAGTTTCGTGCCTTCGTGCCTTCGTGCCTAGAACACAGGAGAGTTACTGAATGAACCTCTTGACCTCTTGAGGAGAGTTGGAGAGTTGGAGAGTTACTGAATGAAACTGAATGAAACTGAATGAAACTGAATGAATCGTGCCTGGAGAGTTCCTCTTGATCGTGCCTGGAGAGTTACTGAATGAATCGTGCCTACTGAATGAAAGAACACATCGTGCCTACTGAATGAAGGAGAGTTGGAGAGTTGGAGAGTTGGAGAGTTGGAGAGTTAGAACACATCGTGCCTGGAGAGTTTCGTGCCTCCTCTTGAAGAACACACCTCTTGAACTGAATGAACCTCTTGAAGAACACAACTGAATGAAGGAGAGTTCCTCTTGAACTGAATGAACCTCTTGAAGAACACATCGTGCCTAGAACACAGGAGAGTTGGAGAGTTCCTCTTGACCTCTTGAAGAACACAGGAGAGTTACTGAATGAAAGAACACAAGAACACACCTCTTGAGGAGAGTTACTGAATGAACCTCTTGAACTGAATGAACCTCTTGAAGAACACACCTCTTGAGGAGAGTTGGAGAGTTTCGTGCCT\"\n",
    "k = 11"
   ]
  },
  {
   "cell_type": "code",
   "execution_count": 38,
   "metadata": {},
   "outputs": [],
   "source": [
    "def FrequentWords(Text, k):\n",
    "    if k > len(Text):\n",
    "        print(\"K must be less than the length of the text!\")\n",
    "        return\n",
    "    worddict = {}\n",
    "    for i in range(len(Text)-k):\n",
    "        kmer = Text[i:i+k]\n",
    "        if kmer in worddict.keys():\n",
    "            worddict[kmer] += 1\n",
    "        else:\n",
    "            worddict[kmer] = 0\n",
    "    maxval = max(worddict.values())\n",
    "    results =[]\n",
    "    for key in worddict.keys():\n",
    "        if worddict[key] == maxval:\n",
    "            results.append(key)\n",
    "    return sorted(results)"
   ]
  },
  {
   "cell_type": "code",
   "execution_count": 41,
   "metadata": {},
   "outputs": [
    {
     "name": "stdout",
     "output_type": "stream",
     "text": [
      "253 µs ± 2.56 µs per loop (mean ± std. dev. of 7 runs, 1000 loops each)\n"
     ]
    }
   ],
   "source": [
    "%%timeit\n",
    "FrequentWords(text,k)"
   ]
  },
  {
   "cell_type": "code",
   "execution_count": 40,
   "metadata": {},
   "outputs": [
    {
     "name": "stdout",
     "output_type": "stream",
     "text": [
      "AACTGAATGAA\n"
     ]
    }
   ],
   "source": [
    "print(' '.join(FrequentWords(text,k)))"
   ]
  },
  {
   "cell_type": "code",
   "execution_count": 26,
   "metadata": {},
   "outputs": [],
   "source": [
    "testdict = {\"A\":\"T\",\"G\":\"C\"}"
   ]
  },
  {
   "cell_type": "code",
   "execution_count": 30,
   "metadata": {},
   "outputs": [
    {
     "data": {
      "text/plain": [
       "'G'"
      ]
     },
     "execution_count": 30,
     "metadata": {},
     "output_type": "execute_result"
    }
   ],
   "source": [
    "A(testdict,key=testdict.get)"
   ]
  },
  {
   "cell_type": "code",
   "execution_count": 34,
   "metadata": {},
   "outputs": [],
   "source": [
    "def PatternMatching(Pattern, Genome):\n",
    "    matchlist = []\n",
    "    for i in range(len(Genome)-len(Pattern)+1):\n",
    "        if Genome[i:i+len(Pattern)] == Pattern:\n",
    "            matchlist.append(str(i))\n",
    "    return matchlist"
   ]
  },
  {
   "cell_type": "code",
   "execution_count": 3,
   "metadata": {},
   "outputs": [],
   "source": [
    "pat = 'ATAT'\n",
    "genome = 'GATATATGCATATACTT'"
   ]
  },
  {
   "cell_type": "code",
   "execution_count": 4,
   "metadata": {},
   "outputs": [
    {
     "ename": "NameError",
     "evalue": "name 'PatternMatching' is not defined",
     "output_type": "error",
     "traceback": [
      "\u001b[0;31m---------------------------------------------------------------------\u001b[0m",
      "\u001b[0;31mNameError\u001b[0m                           Traceback (most recent call last)",
      "\u001b[0;32m<ipython-input-4-e15574d2ba09>\u001b[0m in \u001b[0;36m<module>\u001b[0;34m\u001b[0m\n\u001b[0;32m----> 1\u001b[0;31m \u001b[0mPatternMatching\u001b[0m\u001b[0;34m(\u001b[0m\u001b[0mpat\u001b[0m\u001b[0;34m,\u001b[0m\u001b[0mgenome\u001b[0m\u001b[0;34m)\u001b[0m\u001b[0;34m\u001b[0m\u001b[0;34m\u001b[0m\u001b[0m\n\u001b[0m",
      "\u001b[0;31mNameError\u001b[0m: name 'PatternMatching' is not defined"
     ]
    }
   ],
   "source": [
    "PatternMatching(pat,genome)"
   ]
  },
  {
   "cell_type": "code",
   "execution_count": 9,
   "metadata": {},
   "outputs": [],
   "source": [
    "def FrequentWords(text,k):\n",
    "    worddict = {}\n",
    "    for i in range(len(text) -k):\n",
    "        kmer = text[i:i+k]\n",
    "        if kmer in worddict.keys():\n",
    "            worddict[kmer].append(i)\n",
    "        else:\n",
    "            worddict[kmer] = [i]\n",
    "    return worddict"
   ]
  },
  {
   "cell_type": "code",
   "execution_count": 15,
   "metadata": {},
   "outputs": [
    {
     "data": {
      "text/plain": [
       "{'ATA': [1, 3, 9, 11], 'TAT': [2, 4, 10]}"
      ]
     },
     "execution_count": 15,
     "metadata": {},
     "output_type": "execute_result"
    }
   ],
   "source": [
    "{k:v for k,v in FrequentWords(genome,3).items() if len(v) >= 3}"
   ]
  },
  {
   "cell_type": "code",
   "execution_count": 90,
   "metadata": {},
   "outputs": [],
   "source": [
    "def ClumpFinding(genome, k, L, t):\n",
    "    frequent_words = {k:v for (k,v) in FrequentWords(genome,k).items() if len(v) >= t}\n",
    "    clumps = []\n",
    "    for key,v in frequent_words.items():\n",
    "\n",
    "        for i in range(len(v) - t+1) :\n",
    "            \n",
    "            if v[i+t-1] + k <= v[i] + L:\n",
    "                clumps.append(key)\n",
    "                break\n",
    "    return clumps"
   ]
  },
  {
   "cell_type": "code",
   "execution_count": 91,
   "metadata": {},
   "outputs": [],
   "source": [
    "gnm = \"CGGACTCGACAGATGTGAAGAACGACAATGTGAAGACTCGACACGACAGAGTGAAGAGAAGAGGAAACATTGTAA\""
   ]
  },
  {
   "cell_type": "code",
   "execution_count": 92,
   "metadata": {},
   "outputs": [
    {
     "data": {
      "text/plain": [
       "{'CGACA': [6, 22, 38, 43],\n",
       " 'GTGAA': [14, 29, 50],\n",
       " 'TGAAG': [15, 30, 51],\n",
       " 'GAAGA': [16, 31, 52, 57]}"
      ]
     },
     "execution_count": 92,
     "metadata": {},
     "output_type": "execute_result"
    }
   ],
   "source": [
    "{k:v for (k,v) in FrequentWords(gnm,5).items() if len(v) >=3}"
   ]
  },
  {
   "cell_type": "code",
   "execution_count": 93,
   "metadata": {},
   "outputs": [
    {
     "name": "stdout",
     "output_type": "stream",
     "text": [
      "5\n"
     ]
    },
    {
     "data": {
      "text/plain": [
       "['CGACA', 'GAAGA']"
      ]
     },
     "execution_count": 93,
     "metadata": {},
     "output_type": "execute_result"
    }
   ],
   "source": [
    "ClumpFinding(gnm,5,50,4)"
   ]
  },
  {
   "cell_type": "code",
   "execution_count": 121,
   "metadata": {},
   "outputs": [],
   "source": [
    "def PatternToNumber(pattern):\n",
    "    num = 0\n",
    "    nucleodict = {\"A\":0,\"C\":1,\"G\":2,\"T\":3}\n",
    "    for (i,nt) in enumerate(pattern):\n",
    "        num += nucleodict[nt]*4**(len(pattern)- i-1)\n",
    "\n",
    "    return num\n",
    "\n",
    "def computing_frequencies(text, k):\n",
    "    counts = [0 for i in range(4**k)]\n",
    "    for i in range(len(text) -k+1 ):\n",
    "        counts[PatternToNumber(text[i:i+k])] += 1\n",
    "    return counts               "
   ]
  },
  {
   "cell_type": "code",
   "execution_count": 120,
   "metadata": {},
   "outputs": [
    {
     "name": "stdout",
     "output_type": "stream",
     "text": [
      "16\n"
     ]
    },
    {
     "data": {
      "text/plain": [
       "[2, 1, 0, 0, 0, 0, 2, 2, 1, 2, 1, 0, 0, 1, 1, 0]"
      ]
     },
     "execution_count": 120,
     "metadata": {},
     "output_type": "execute_result"
    }
   ],
   "source": [
    "computing_frequencies(\"ACGCGGCTCTGAAA\",2)"
   ]
  },
  {
   "cell_type": "code",
   "execution_count": 155,
   "metadata": {},
   "outputs": [],
   "source": [
    "def NumberToPattern(Number, pattern_length):\n",
    "    rvnt_dict ={0:\"A\", 1:\"C\",2:\"G\",3:\"T\"}\n",
    "    num = Number\n",
    "    st = \"\"\n",
    "    for i in range(pattern_length) :\n",
    "        st = st + rvnt_dict[num%4]\n",
    "        num = num//4\n",
    "    return st[::-1]\n"
   ]
  },
  {
   "cell_type": "code",
   "execution_count": 156,
   "metadata": {},
   "outputs": [
    {
     "data": {
      "text/plain": [
       "'AGTC'"
      ]
     },
     "execution_count": 156,
     "metadata": {},
     "output_type": "execute_result"
    }
   ],
   "source": [
    "NumberToPattern(45,4)"
   ]
  },
  {
   "cell_type": "code",
   "execution_count": null,
   "metadata": {},
   "outputs": [],
   "source": []
  }
 ],
 "metadata": {
  "kernelspec": {
   "display_name": "Python 3",
   "language": "python",
   "name": "python3"
  },
  "language_info": {
   "codemirror_mode": {
    "name": "ipython",
    "version": 3
   },
   "file_extension": ".py",
   "mimetype": "text/x-python",
   "name": "python",
   "nbconvert_exporter": "python",
   "pygments_lexer": "ipython3",
   "version": "3.8.5"
  }
 },
 "nbformat": 4,
 "nbformat_minor": 4
}
