{
 "cells": [
  {
   "cell_type": "code",
   "execution_count": null,
   "metadata": {},
   "outputs": [],
   "source": []
  },
  {
   "cell_type": "code",
   "execution_count": 37,
   "metadata": {},
   "outputs": [],
   "source": [
    "text = \"AGAACACACCTCTTGAACTGAATGAAGGAGAGTTGGAGAGTTCCTCTTGAACTGAATGAAACTGAATGAACCTCTTGACCTCTTGAACTGAATGAAGGAGAGTTGGAGAGTTACTGAATGAATCGTGCCTTCGTGCCTGGAGAGTTACTGAATGAATCGTGCCTCCTCTTGACCTCTTGACCTCTTGAGGAGAGTTGGAGAGTTTCGTGCCTAGAACACAAGAACACAACTGAATGAAACTGAATGAATCGTGCCTAGAACACATCGTGCCTAGAACACAGGAGAGTTCCTCTTGACCTCTTGAGGAGAGTTACTGAATGAAAGAACACAAGAACACACCTCTTGAGGAGAGTTCCTCTTGACCTCTTGAGGAGAGTTTCGTGCCTGGAGAGTTTCGTGCCTTCGTGCCTTCGTGCCTAGAACACAGGAGAGTTACTGAATGAACCTCTTGACCTCTTGAGGAGAGTTGGAGAGTTGGAGAGTTACTGAATGAAACTGAATGAAACTGAATGAAACTGAATGAATCGTGCCTGGAGAGTTCCTCTTGATCGTGCCTGGAGAGTTACTGAATGAATCGTGCCTACTGAATGAAAGAACACATCGTGCCTACTGAATGAAGGAGAGTTGGAGAGTTGGAGAGTTGGAGAGTTGGAGAGTTAGAACACATCGTGCCTGGAGAGTTTCGTGCCTCCTCTTGAAGAACACACCTCTTGAACTGAATGAACCTCTTGAAGAACACAACTGAATGAAGGAGAGTTCCTCTTGAACTGAATGAACCTCTTGAAGAACACATCGTGCCTAGAACACAGGAGAGTTGGAGAGTTCCTCTTGACCTCTTGAAGAACACAGGAGAGTTACTGAATGAAAGAACACAAGAACACACCTCTTGAGGAGAGTTACTGAATGAACCTCTTGAACTGAATGAACCTCTTGAAGAACACACCTCTTGAGGAGAGTTGGAGAGTTTCGTGCCT\"\n",
    "k = 11"
   ]
  },
  {
   "cell_type": "code",
   "execution_count": 38,
   "metadata": {},
   "outputs": [],
   "source": [
    "def FrequentWords(Text, k):\n",
    "    if k > len(Text):\n",
    "        print(\"K must be less than the length of the text!\")\n",
    "        return\n",
    "    worddict = {}\n",
    "    for i in range(len(Text)-k):\n",
    "        kmer = Text[i:i+k]\n",
    "        if kmer in worddict.keys():\n",
    "            worddict[kmer] += 1\n",
    "        else:\n",
    "            worddict[kmer] = 0\n",
    "    maxval = max(worddict.values())\n",
    "    results =[]\n",
    "    for key in worddict.keys():\n",
    "        if worddict[key] == maxval:\n",
    "            results.append(key)\n",
    "    return sorted(results)"
   ]
  },
  {
   "cell_type": "code",
   "execution_count": 41,
   "metadata": {},
   "outputs": [
    {
     "name": "stdout",
     "output_type": "stream",
     "text": [
      "253 µs ± 2.56 µs per loop (mean ± std. dev. of 7 runs, 1000 loops each)\n"
     ]
    }
   ],
   "source": [
    "%%timeit\n",
    "FrequentWords(text,k)"
   ]
  },
  {
   "cell_type": "code",
   "execution_count": 40,
   "metadata": {},
   "outputs": [
    {
     "name": "stdout",
     "output_type": "stream",
     "text": [
      "AACTGAATGAA\n"
     ]
    }
   ],
   "source": [
    "print(' '.join(FrequentWords(text,k)))"
   ]
  },
  {
   "cell_type": "code",
   "execution_count": 26,
   "metadata": {},
   "outputs": [],
   "source": [
    "testdict = {\"A\":\"T\",\"G\":\"C\"}"
   ]
  },
  {
   "cell_type": "code",
   "execution_count": 30,
   "metadata": {},
   "outputs": [
    {
     "data": {
      "text/plain": [
       "'G'"
      ]
     },
     "execution_count": 30,
     "metadata": {},
     "output_type": "execute_result"
    }
   ],
   "source": [
    "A(testdict,key=testdict.get)"
   ]
  },
  {
   "cell_type": "code",
   "execution_count": 34,
   "metadata": {},
   "outputs": [],
   "source": [
    "def PatternMatching(Pattern, Genome):\n",
    "    matchlist = []\n",
    "    for i in range(len(Genome)-len(Pattern)+1):\n",
    "        if Genome[i:i+len(Pattern)] == Pattern:\n",
    "            matchlist.append(str(i))\n",
    "    return matchlist"
   ]
  },
  {
   "cell_type": "code",
   "execution_count": 35,
   "metadata": {},
   "outputs": [],
   "source": [
    "pat = 'ATAT'\n",
    "genome = 'GATATATGCATATACTT'"
   ]
  },
  {
   "cell_type": "code",
   "execution_count": 36,
   "metadata": {},
   "outputs": [
    {
     "data": {
      "text/plain": [
       "['1', '3', '9']"
      ]
     },
     "execution_count": 36,
     "metadata": {},
     "output_type": "execute_result"
    }
   ],
   "source": [
    "PatternMatching(pat,genome)"
   ]
  },
  {
   "cell_type": "code",
   "execution_count": null,
   "metadata": {},
   "outputs": [],
   "source": []
  }
 ],
 "metadata": {
  "kernelspec": {
   "display_name": "Python 3",
   "language": "python",
   "name": "python3"
  },
  "language_info": {
   "codemirror_mode": {
    "name": "ipython",
    "version": 3
   },
   "file_extension": ".py",
   "mimetype": "text/x-python",
   "name": "python",
   "nbconvert_exporter": "python",
   "pygments_lexer": "ipython3",
   "version": "3.7.4"
  }
 },
 "nbformat": 4,
 "nbformat_minor": 2
}
